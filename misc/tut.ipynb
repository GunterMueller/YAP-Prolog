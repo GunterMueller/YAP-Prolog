{
 "cells": [
  {
   "cell_type": "markdown",
   "metadata": {},
   "source": [
    "# YAP Jupyter Interface ![yap.ico](attachment:yap.ico)\n",
    "\n",
    "## Walkthrough and User Guide\n",
    "\n",
    "The next cells show examples  of input output interaction with Prolog and Jupyter. We assume basic knowledge of both Prolog and Python/R/Jupyter. Notice that this is experimental software, subject to bugs and change. Also remember that \n",
    "  - all cells in the same page belong to the same process;\n",
    "  - _magic_ refers to annotations that perform extra, non-trivial work\n",
    "  - check the top=right ball right to the side of `YAP 6`: if empty the system is avsilable; otherwise, it is busy, \n",
    "\n",
    "### Basic Usage\n",
    "\n",
    "Any Prolog system should be able to unify two terms:"
   ]
  },
  {
   "cell_type": "code",
   "execution_count": 1,
   "metadata": {},
   "outputs": [],
   "source": [
    "    X=2                                                                                                    "
   ]
  },
  {
   "cell_type": "code",
   "execution_count": 2,
   "metadata": {},
   "outputs": [
    {
     "ename": "NameError",
     "evalue": "name 'f' is not defined",
     "output_type": "error",
     "traceback": [
      "\u001b[0;31m---------------------------------------------------------------------------\u001b[0m",
      "\u001b[0;31mNameError\u001b[0m                                 Traceback (most recent call last)",
      "\u001b[0;32m<ipython-input-2-2b990ecb9992>\u001b[0m in \u001b[0;36m<module>\u001b[0;34m\u001b[0m\n\u001b[0;32m----> 1\u001b[0;31m \u001b[0mX\u001b[0m\u001b[0;34m=\u001b[0m\u001b[0mf\u001b[0m\u001b[0;34m(\u001b[0m\u001b[0mY\u001b[0m\u001b[0;34m)\u001b[0m\u001b[0;34m\u001b[0m\u001b[0;34m\u001b[0m\u001b[0m\n\u001b[0m",
      "\u001b[0;31mNameError\u001b[0m: name 'f' is not defined"
     ]
    }
   ],
   "source": [
    "X=f(Y)"
   ]
  },
  {
   "cell_type": "code",
   "execution_count": 3,
   "metadata": {},
   "outputs": [
    {
     "ename": "SyntaxError",
     "evalue": "invalid syntax (<ipython-input-3-30bfe6a4111f>, line 1)",
     "output_type": "error",
     "traceback": [
      "\u001b[0;36m  File \u001b[0;32m\"<ipython-input-3-30bfe6a4111f>\"\u001b[0;36m, line \u001b[0;32m1\u001b[0m\n\u001b[0;31m    f(X,['olá',X]) = f(`hello`,Z)\u001b[0m\n\u001b[0m                       ^\u001b[0m\n\u001b[0;31mSyntaxError\u001b[0m\u001b[0;31m:\u001b[0m invalid syntax\n"
     ]
    }
   ],
   "source": [
    "f(X,['olá',X]) = f(`hello`,Z)"
   ]
  },
  {
   "cell_type": "markdown",
   "metadata": {},
   "source": [
    "Unification may fail:"
   ]
  },
  {
   "cell_type": "code",
   "execution_count": 8,
   "metadata": {},
   "outputs": [],
   "source": [
    "f('olá',[X]) = f(`hello`,Z) "
   ]
  },
  {
   "cell_type": "code",
   "execution_count": 10,
   "metadata": {},
   "outputs": [],
   "source": [
    "X=Y"
   ]
  },
  {
   "cell_type": "markdown",
   "metadata": {},
   "source": [
    "You observe that the first time you press `shift-enter` or `ctl-enter`, YAP/Jupyter writes down `X=2`, the answer. If you press down `shift-enter` again, it writes `No (more) answers`  Pressing again returns you to the first answer, `X=2`:\n",
    "\n",
    "- In YAP/Jupyter cells have a state that depends on how many answers you generated.\n",
    "\n",
    "YAP also allows asking for ll solutions in a single run:"
   ]
  },
  {
   "cell_type": "code",
   "execution_count": 12,
   "metadata": {},
   "outputs": [],
   "source": [
    "between(1,100,I), J is I^I *\n"
   ]
  },
  {
   "cell_type": "markdown",
   "metadata": {},
   "source": [
    "The YAP  `^` operator generates floating-point numbers for large exponentials. You can try replacing `^` by `**` in the cell: notice that the cell state is reset, as changes in the text of a cell may mean anything. "
   ]
  },
  {
   "cell_type": "code",
   "execution_count": 14,
   "metadata": {},
   "outputs": [],
   "source": [
    "between(1,20,I), J is 20-I, IJ is I*J *\n"
   ]
  },
  {
   "cell_type": "markdown",
   "metadata": {},
   "source": [
    "\n",
    "NB: in the current version, the states in a page are single-threaded, and only  one cell is active at a rime."
   ]
  },
  {
   "cell_type": "markdown",
   "metadata": {},
   "source": [
    "## Programming with cells\n",
    "\n",
    "Cells can  store programs: that is wahat they do"
   ]
  },
  {
   "cell_type": "markdown",
   "metadata": {},
   "source": [
    "The next cell shows a program to recognise state-checking predicates:"
   ]
  },
  {
   "cell_type": "code",
   "execution_count": 16,
   "metadata": {},
   "outputs": [],
   "source": [
    "state_info(Name/Arity) :- \n",
    "    current_predicate(Name/Arity), \n",
    "    atom_concat(current,_,Name).\n",
    "state_info(Name/Arity) :- \n",
    "    system_predicate(Name/Arity),\n",
    " atom_concat(current,_,Name)."
   ]
  },
  {
   "cell_type": "markdown",
   "metadata": {},
   "source": [
    "Now you can query:"
   ]
  },
  {
   "cell_type": "code",
   "execution_count": 18,
   "metadata": {},
   "outputs": [],
   "source": [
    " state_info(P)"
   ]
  },
  {
   "cell_type": "markdown",
   "metadata": {},
   "source": [
    "Notice that you need to consult the program cell first. We can just do both in the same cell: "
   ]
  },
  {
   "cell_type": "code",
   "execution_count": 20,
   "metadata": {},
   "outputs": [],
   "source": [
    "\n",
    "generate_ith(I, I, [Head|Tail], Head, Tail).\n",
    "generate_ith(I, IN, [_|List], El, Tail) :-\n",
    "\tI1 is I+1,\n",
    "\tgenerate_ith(I1, IN, List, El, Tail).\n",
    "\n",
    "ith(V, In, Element, Tail) :- var(V), !,\n",
    "\tgenerate_ith(0, V, In, Element, Tail).\n",
    "ith(0, [Head|Tail], Head, Tail) :- !.\n",
    "ith(N, [Head|Tail], Elem, [Head|Rest]) :-\n",
    "\tM is N-1,\n",
    "\tith(M, Tail, Elem, Rest).\n",
    "\n",
    "ith(X,[1,2,3,4,5],4, T)\n",
    "\n"
   ]
  },
  {
   "cell_type": "code",
   "execution_count": 21,
   "metadata": {},
   "outputs": [
    {
     "name": "stdout",
     "output_type": "stream",
     "text": [
      "ICLP2014_examples.yap\n",
      "PROLOGCOMMONS.md\n",
      "SWIATOMS\n",
      "Yap.spec\n",
      "Yap64.spec\n",
      "buildatoms\n",
      "buildlocalglobal\n",
      "buildops\n",
      "buildswiatoms\n",
      "editors\n",
      "find_exports\n",
      "gengroups\n",
      "mktags\n",
      "mkwin\n",
      "mkwin.md\n",
      "options.ini\n",
      "prolog.el\n",
      "tests\n",
      "tkyap\n",
      "tmp\n",
      "tut.ipynb\n",
      "yap.def\n",
      "yap.nsi\n",
      "yapu\n"
     ]
    }
   ],
   "source": [
    "%%bash\n",
    "\n",
    "ls\n"
   ]
  },
  {
   "cell_type": "markdown",
   "metadata": {},
   "source": [
    "### Magic\n",
    "\n",
    "YAP allows the standard magics, buth with line and cell:\n",
    "\n",
    "- line magics should be the first non-empty line, and must start with `%` followed immediately by the name.\n",
    "\n",
    "- cell magics start with `%%` and must be the only magic in the cell.\n",
    "\n",
    "You can use the completion mechanism to list all magics.\n"
   ]
  },
  {
   "cell_type": "code",
   "execution_count": 23,
   "metadata": {},
   "outputs": [],
   "source": [
    "%matplotlib inline\n",
    "\n",
    "main :-\n",
    "    python_import( matplotlib.pyplot  as plt ),\n",
    "    python_import( numpy  as np ),\n",
    "    T = np.arange(0.0, 2.0, 0.01),\n",
    "    S = 1 + np.sin(2*np.pi*T),\n",
    "    plt.plot(T, S),\n",
    "    plt.xlabel(`time (s)`),\n",
    "    plt.ylabel(`voltage (mV)`),\n",
    "    plt.title(`About as simple as it gets, folks`),\n",
    "    plt.grid(true),\n",
    "    plt.savefig(\"test2.png\"),\n",
    "    plt.show().\n",
    "\n",
    "main "
   ]
  },
  {
   "cell_type": "code",
   "execution_count": 25,
   "metadata": {},
   "outputs": [],
   "source": [
    "%matplotlib inline\n",
    "\n",
    "main2 :-\n",
    "    python_import( numpy as np ),\n",
    "    python_import( matplotlib.mlab as mlab ),\n",
    "    python_import( matplotlib.pyplot as plt ),\n",
    "\n",
    "    /* example data */\n",
    "    Mu = 100,  /* mean of distribution, */\n",
    "    Sigma = 15,  /* standard deviation of distribution, */\n",
    "    X = Mu + Sigma * np.random.randn(10000),\n",
    "    NumBins = 50,\n",
    "    /* the histogram of the data */\n",
    "    t(n, bins, patches) := plt.hist(X, NumBins, normed=1, facecolor= `green`, alpha=0.5),\n",
    "    /* add a `best fit` line */\n",
    "    y := mlab.normpdf(bins, Mu, Sigma),\n",
    "    plt.plot(bins, y, 'r--'),\n",
    "    plt.xlabel('Smarts'),\n",
    "    plt.ylabel('Probability'),\n",
    "    plt.title('Histogram of IQ: $\\\\mu=100$, $\\\\sigma=15$'),\n",
    "    /* Tweak spacing to prevent clipping of ylabel, */\n",
    "    plt.show().\n",
    "   \n",
    "   main2"
   ]
  },
  {
   "cell_type": "markdown",
   "metadata": {},
   "source": [
    "Last, Prolog can talk to R, so you can get a Python to R bridge"
   ]
  },
  {
   "cell_type": "code",
   "execution_count": 27,
   "metadata": {},
   "outputs": [],
   "source": [
    ":- [library(real)].\n",
    "\n",
    "X <- c(1:10), x := X"
   ]
  },
  {
   "cell_type": "markdown",
   "metadata": {},
   "source": [
    "get_code(C)"
   ]
  },
  {
   "cell_type": "code",
   "execution_count": 29,
   "metadata": {},
   "outputs": [],
   "source": [
    "\n",
    "    get_code(C)"
   ]
  },
  {
   "cell_type": "code",
   "execution_count": null,
   "metadata": {},
   "outputs": [],
   "source": [
    "%%python3\n",
    "import sys\n",
    "input()"
   ]
  },
  {
   "cell_type": "code",
   "execution_count": null,
   "metadata": {},
   "outputs": [],
   "source": [
    "\n"
   ]
  },
  {
   "cell_type": "code",
   "execution_count": null,
   "metadata": {},
   "outputs": [],
   "source": []
  }
 ],
 "metadata": {
  "kernelspec": {
   "display_name": "Python 3",
   "language": "python",
   "name": "python3"
  },
  "language_info": {
   "codemirror_mode": {
    "name": "ipython",
    "version": 3
   },
   "file_extension": ".py",
   "mimetype": "text/x-python",
   "name": "python",
   "nbconvert_exporter": "python",
   "pygments_lexer": "ipython3",
   "version": "3.8.3"
  }
 },
 "nbformat": 4,
 "nbformat_minor": 4
}
